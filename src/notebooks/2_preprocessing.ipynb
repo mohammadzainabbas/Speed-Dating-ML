{
 "cells": [
  {
   "cell_type": "code",
   "execution_count": 1,
   "id": "664f2f67-d217-4a9c-b794-fa7fecd115a9",
   "metadata": {},
   "outputs": [
    {
     "data": {
      "text/html": [
       "        <script type=\"text/javascript\">\n",
       "        window.PlotlyConfig = {MathJaxConfig: 'local'};\n",
       "        if (window.MathJax && window.MathJax.Hub && window.MathJax.Hub.Config) {window.MathJax.Hub.Config({SVG: {font: \"STIX-Web\"}});}\n",
       "        if (typeof require !== 'undefined') {\n",
       "        require.undef(\"plotly\");\n",
       "        requirejs.config({\n",
       "            paths: {\n",
       "                'plotly': ['https://cdn.plot.ly/plotly-2.12.1.min']\n",
       "            }\n",
       "        });\n",
       "        require(['plotly'], function(Plotly) {\n",
       "            window._Plotly = Plotly;\n",
       "        });\n",
       "        }\n",
       "        </script>\n",
       "        "
      ]
     },
     "metadata": {},
     "output_type": "display_data"
    }
   ],
   "source": [
    "%matplotlib inline\n",
    "%load_ext autoreload\n",
    "\n",
    "import warnings\n",
    "warnings.filterwarnings(\"ignore\") # disable warnings\n",
    "\n",
    "from os import getcwd\n",
    "from os.path import join, abspath, pardir, exists\n",
    "import numpy as np\n",
    "import pandas as pd\n",
    "import matplotlib.pyplot as plt\n",
    "import seaborn as sns\n",
    "import plotly.express as px\n",
    "import plotly.figure_factory as ff\n",
    "import plotly.offline as py\n",
    "py.init_notebook_mode(connected=True)\n",
    "import plotly.graph_objs as go\n",
    "import plotly.tools as tls\n",
    "\n",
    "# scipy\n",
    "from scipy.stats import ttest_ind, chi2_contingency, boxcox, skew\n",
    "from scipy.stats.stats import pearsonr\n",
    "\n",
    "# sklearn libraries\n",
    "from sklearn import preprocessing\n",
    "from sklearn.preprocessing import LabelEncoder, OneHotEncoder\n",
    "from sklearn.model_selection import train_test_split\n",
    "from sklearn.neighbors import KNeighborsClassifier, LocalOutlierFactor\n",
    "from sklearn.impute import KNNImputer, SimpleImputer\n",
    "from sklearn.cluster import DBSCAN\n",
    "from sklearn.feature_selection import SelectKBest, f_classif, chi2\n",
    "\n",
    "# IPython\n",
    "from IPython.core.interactiveshell import InteractiveShell"
   ]
  },
  {
   "cell_type": "markdown",
   "id": "2f83b4df",
   "metadata": {},
   "source": [
    "##### Config settings"
   ]
  },
  {
   "cell_type": "code",
   "execution_count": null,
   "id": "df4894fe-4fc0-4580-b2df-275bbdfb82bf",
   "metadata": {},
   "outputs": [],
   "source": [
    "parent_dir = abspath(join(join(getcwd(), pardir), pardir))\n",
    "data_dir = join(parent_dir, \"data\")\n",
    "data_file = join(data_dir, \"speed_dating.csv\")\n",
    "\n",
    "# For IPython\n",
    "\n",
    "InteractiveShell.ast_node_interactivity = \"all\" # To show all output after each cell execution (instead of the last output)\n",
    "\n",
    "# For pandas\n",
    "\n",
    "pd.options.display.max_columns = 200 # display upto 200 columns (instead of default 20)\n",
    "pd.options.display.max_rows = 200 # display upto 200 rows (instead of default 60)"
   ]
  },
  {
   "cell_type": "code",
   "execution_count": null,
   "id": "18ae3627-784c-4550-8dc4-ffd94bcbcbf5",
   "metadata": {},
   "outputs": [],
   "source": [
    "# df = pd.read_csv(data_file, encoding= 'unicode_escape')\n",
    "df = pd.read_csv(data_file, encoding= 'ISO-8859-1')\n",
    "df.head()"
   ]
  },
  {
   "cell_type": "markdown",
   "id": "30ad0aea",
   "metadata": {},
   "source": [
    "##### Basic checks"
   ]
  },
  {
   "cell_type": "code",
   "execution_count": null,
   "id": "58391e99",
   "metadata": {},
   "outputs": [],
   "source": [
    "len(df)\n",
    "len(df.columns)\n",
    "# df.dtypes"
   ]
  },
  {
   "cell_type": "markdown",
   "id": "cd778c23",
   "metadata": {},
   "source": [
    "##### Missing data"
   ]
  },
  {
   "cell_type": "code",
   "execution_count": null,
   "id": "29c0d02c",
   "metadata": {},
   "outputs": [],
   "source": [
    "((df.isna().sum()/len(df)) * 100).to_frame(name='missing %').sort_values(by=['missing %'], ascending=False)"
   ]
  },
  {
   "cell_type": "markdown",
   "id": "fdf05f86",
   "metadata": {},
   "source": [
    "##### Profile Report"
   ]
  },
  {
   "cell_type": "code",
   "execution_count": null,
   "id": "7bea26c1-b98c-41ed-b35e-0092591c7ebe",
   "metadata": {},
   "outputs": [],
   "source": [
    "profile = ProfileReport(df, title=\"Speed Dating Report\", minimal=True, vars={\"num\": {\"low_categorical_threshold\": 0}})\n",
    "profile.to_notebook_iframe()"
   ]
  },
  {
   "cell_type": "markdown",
   "id": "3f0242c4",
   "metadata": {},
   "source": [
    "### Gender based analysis"
   ]
  },
  {
   "cell_type": "markdown",
   "id": "4191a4e3",
   "metadata": {},
   "source": [
    "Let's see what's the ratio b/w men and women participants"
   ]
  },
  {
   "cell_type": "code",
   "execution_count": null,
   "id": "47506102",
   "metadata": {},
   "outputs": [],
   "source": [
    "gender_df = df.gender.replace(0, \"Men\").replace(1, \"Women\").to_frame(name='gender')\n",
    "sns.countplot(x='gender', data=gender_df)"
   ]
  },
  {
   "cell_type": "markdown",
   "id": "caebb6e1",
   "metadata": {},
   "source": [
    "##### Findings\n",
    "- Same ratio between men and women \n",
    "\n",
    "</br>"
   ]
  },
  {
   "cell_type": "code",
   "execution_count": null,
   "id": "3474f6af",
   "metadata": {},
   "outputs": [],
   "source": [
    "pip install -U radian"
   ]
  },
  {
   "cell_type": "code",
   "execution_count": null,
   "id": "ca4550c2",
   "metadata": {},
   "outputs": [],
   "source": [
    "df.columns.to_list()"
   ]
  },
  {
   "cell_type": "markdown",
   "id": "61e584ed",
   "metadata": {},
   "source": []
  },
  {
   "cell_type": "markdown",
   "id": "ae9c7348-e858-46de-b222-ee9727ac9d83",
   "metadata": {},
   "source": [
    "#### Session wise exploration "
   ]
  },
  {
   "cell_type": "code",
   "execution_count": null,
   "id": "f3ec5285-b8c7-499b-972d-07bb7c108b1c",
   "metadata": {},
   "outputs": [],
   "source": [
    "id = list(df['iid'].unique())[2]\n",
    "df[df['iid'] == id].shape\n",
    "\n",
    "for id in list(df['iid'].unique()):\n",
    "    print(\"{} {}\".format(id, df[df['iid'] == id].shape))"
   ]
  },
  {
   "cell_type": "code",
   "execution_count": null,
   "id": "5182ebd5-b522-49ca-9cb5-b95dad0974ed",
   "metadata": {},
   "outputs": [],
   "source": [
    "for pos in list(df['position'].unique()):\n",
    "    women = len(list(df[(df['position'] == pos) & (df['gender'] == 0)]['iid'].unique()))\n",
    "    men = len(list(df[(df['position'] == pos) & (df['gender'] == 1)]['iid'].unique()))\n",
    "    print(\"Position: {}\\tMen: {}\\tWomen: {}\".format(pos, men, women))\n",
    "              \n",
    "# len(list(df[(df['position'] == 1) & (df['gender'] == 1)]['iid'].unique()))"
   ]
  },
  {
   "cell_type": "code",
   "execution_count": null,
   "id": "22437786-a84e-4272-b351-f5915487dd0b",
   "metadata": {},
   "outputs": [],
   "source": [
    "df[df['iid'] == 551].sort_values"
   ]
  },
  {
   "cell_type": "code",
   "execution_count": null,
   "id": "9d6a5616-9fa0-472c-b2ee-fe229c25a622",
   "metadata": {},
   "outputs": [],
   "source": [
    "id = df['iid'].unique()[0]"
   ]
  },
  {
   "cell_type": "code",
   "execution_count": null,
   "id": "9a3476f7-f065-447c-a08a-cd6319cec52c",
   "metadata": {},
   "outputs": [],
   "source": [
    "df['iid'].unique()"
   ]
  },
  {
   "cell_type": "code",
   "execution_count": null,
   "id": "51f01d36-29e8-413f-b43f-9c83498920da",
   "metadata": {},
   "outputs": [],
   "source": [
    "df[df['iid'] == id]"
   ]
  },
  {
   "cell_type": "code",
   "execution_count": null,
   "id": "d3f71809",
   "metadata": {},
   "outputs": [],
   "source": []
  }
 ],
 "metadata": {
  "interpreter": {
   "hash": "b33028dfef90447248446bd6a115b2c1f87c179fa7c4ab6e59f7d48c9bbeef80"
  },
  "kernelspec": {
   "display_name": "Python 3.8.13 ('machine_learning')",
   "language": "python",
   "name": "python3"
  },
  "language_info": {
   "codemirror_mode": {
    "name": "ipython",
    "version": 3
   },
   "file_extension": ".py",
   "mimetype": "text/x-python",
   "name": "python",
   "nbconvert_exporter": "python",
   "pygments_lexer": "ipython3",
   "version": "3.8.13"
  }
 },
 "nbformat": 4,
 "nbformat_minor": 5
}
