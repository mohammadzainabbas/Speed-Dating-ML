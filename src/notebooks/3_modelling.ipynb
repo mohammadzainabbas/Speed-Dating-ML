{
 "cells": [
  {
   "cell_type": "code",
   "execution_count": null,
   "id": "664f2f67-d217-4a9c-b794-fa7fecd115a9",
   "metadata": {},
   "outputs": [],
   "source": [
    "%matplotlib inline\n",
    "%load_ext autoreload\n",
    "\n",
    "import warnings\n",
    "warnings.filterwarnings(\"ignore\") # disable warnings\n",
    "\n",
    "from os import getcwd\n",
    "from os.path import join, abspath, pardir\n",
    "import numpy as np\n",
    "import pandas as pd\n",
    "\n",
    "import pickle\n",
    "\n",
    "# sklearn libraries\n",
    "\n",
    "from sklearn.model_selection import GridSearchCV, StratifiedKFold\n",
    "from sklearn.neighbors import KNeighborsClassifier\n",
    "from sklearn.linear_model import LogisticRegression\n",
    "from sklearn.metrics import f1_score, make_scorer\n",
    "\n",
    "from sklearn.experimental import enable_iterative_imputer # enable experimental imputer\n",
    "from sklearn.impute import IterativeImputer               # sample imputation\n",
    "from sklearn import preprocessing                         # encoders, transformations\n",
    "from sklearn.model_selection import cross_validate        # cross-validation, model evaluation\n",
    "from sklearn.model_selection import GridSearchCV          # hyper-parameter tuning\n",
    "from sklearn.linear_model import LogisticRegression       # logistic regression model\n",
    "from sklearn.svm import SVC                               # support vector machine model\n",
    "from sklearn.neighbors import KNeighborsClassifier        # k-nearest neighbours model\n",
    "from sklearn.ensemble import GradientBoostingClassifier   # gradient boosting model\n",
    "from sklearn.ensemble import VotingClassifier             # voting ensemble model\n",
    "from sklearn.ensemble import StackingClassifier           # stacking ensemble model\n",
    "\n",
    "# IPython\n",
    "from IPython.core.interactiveshell import InteractiveShell"
   ]
  },
  {
   "cell_type": "markdown",
   "id": "2f83b4df",
   "metadata": {},
   "source": [
    "##### Config settings"
   ]
  },
  {
   "cell_type": "code",
   "execution_count": null,
   "id": "df4894fe-4fc0-4580-b2df-275bbdfb82bf",
   "metadata": {},
   "outputs": [],
   "source": [
    "parent_dir = abspath(join(join(getcwd(), pardir), pardir))\n",
    "data_dir = join(parent_dir, \"data\")\n",
    "model_dir = join(parent_dir, \"models\")\n",
    "data_file = join(data_dir, \"preprocessed.csv\")\n",
    "\n",
    "# For IPython\n",
    "\n",
    "InteractiveShell.ast_node_interactivity = \"all\" # To show all output after each cell execution (instead of the last output)\n",
    "\n",
    "# For pandas\n",
    "\n",
    "pd.options.display.max_columns = 200 # display upto 200 columns (instead of default 20)\n",
    "pd.options.display.max_rows = 200 # display upto 200 rows (instead of default 60)\n",
    "\n",
    "# random state\n",
    "__random_state = 0"
   ]
  },
  {
   "cell_type": "markdown",
   "id": "627281a6",
   "metadata": {},
   "source": [
    "#### Helper functions"
   ]
  },
  {
   "cell_type": "code",
   "execution_count": null,
   "id": "46177fb0",
   "metadata": {},
   "outputs": [],
   "source": [
    "def save_model(model, file_path: str) -> None:\n",
    "    \"\"\"\n",
    "    Save model as a pickle file\n",
    "    \"\"\"\n",
    "    with open(file_path, \"wb\") as file:\n",
    "        pickle.dump(model, file)\n",
    "\n",
    "def load_model(file_path: str):\n",
    "    \"\"\"\n",
    "    Load model from a pickle file\n",
    "    \"\"\"\n",
    "    with open(file_path, \"rb\") as file:\n",
    "        return pickle.load(file)\n",
    "\n",
    "def dataframe_to_csv(df: pd.DataFrame, file_path: str) -> None:\n",
    "    \"\"\"\n",
    "    Save dataframe as .csv file\n",
    "    \"\"\"\n",
    "    df.to_csv(file_path, index=False)\n",
    "\n",
    "def get_best_clf(clf, param_grid, X, y, **kwargs):\n",
    "    \"\"\"\n",
    "    Grid Search with stratified splitting and other parameters\n",
    "\n",
    "    Returns best estimator and it's score (F1 score)\n",
    "    \"\"\"\n",
    "\n",
    "    # f1 score rather then accuracy\n",
    "    f1 = make_scorer(f1_score, average='micro')\n",
    "\n",
    "    # stratified split\n",
    "    split_count = 10\n",
    "    kf = StratifiedKFold(n_splits=split_count, random_state=__random_state, shuffle=True)\n",
    "\n",
    "    grid_search = GridSearchCV(\n",
    "        estimator=clf,\n",
    "        param_grid=param_grid,\n",
    "        scoring=f1,\n",
    "        cv=kf,\n",
    "        n_jobs=-1,\n",
    "        **kwargs\n",
    "    )\n",
    "\n",
    "    grid_search.fit(X, y)\n",
    "\n",
    "    return grid_search\n",
    "    #return grid_search.best_score_, grid_search.best_estimator_"
   ]
  },
  {
   "cell_type": "markdown",
   "id": "e0fa8062",
   "metadata": {},
   "source": [
    "#### Load preprocessed data"
   ]
  },
  {
   "cell_type": "code",
   "execution_count": null,
   "id": "18ae3627-784c-4550-8dc4-ffd94bcbcbf5",
   "metadata": {},
   "outputs": [],
   "source": [
    "df = pd.read_csv(data_file, encoding= 'ISO-8859-1')\n",
    "df.head()"
   ]
  },
  {
   "cell_type": "markdown",
   "id": "d923cfea",
   "metadata": {},
   "source": [
    "## Modelling"
   ]
  },
  {
   "cell_type": "code",
   "execution_count": null,
   "id": "f2ac487e",
   "metadata": {},
   "outputs": [],
   "source": [
    "# define feature and target variables\n",
    "features, target = df, df['dec_o']\n",
    "features.drop(['dec_o'], axis=1, inplace=True)"
   ]
  },
  {
   "cell_type": "markdown",
   "id": "399b9893",
   "metadata": {},
   "source": [
    "### 1. Baseline Models"
   ]
  },
  {
   "cell_type": "markdown",
   "id": "ae6c959d",
   "metadata": {},
   "source": [
    "#### 1.1. [Logistic Regression](https://scikit-learn.org/stable/modules/generated/sklearn.linear_model.LogisticRegression.html)"
   ]
  },
  {
   "cell_type": "code",
   "execution_count": null,
   "id": "e85d66cf",
   "metadata": {},
   "outputs": [],
   "source": [
    "parameters = {\n",
    "    'penalty': ['l2'],\n",
    "    'solver': ['lbfgs'],\n",
    "    'C': np.logspace(-4, 4, 20),\n",
    "    'max_iter': [10000]\n",
    "}\n",
    "\n",
    "classifier_lr = get_best_clf(\n",
    "    clf=LogisticRegression(random_state=__random_state),\n",
    "    X=features,\n",
    "    y=target,\n",
    "    param_grid=parameters,\n",
    "    verbose=2\n",
    ")\n",
    "\n",
    "classifier_lr.best_params_"
   ]
  },
  {
   "cell_type": "code",
   "execution_count": null,
   "id": "1d4e5e20",
   "metadata": {},
   "outputs": [],
   "source": [
    "classifier_lr.best_estimator_"
   ]
  },
  {
   "cell_type": "code",
   "execution_count": null,
   "id": "feb5009d",
   "metadata": {},
   "outputs": [],
   "source": [
    "clf_logistic_regression = LogisticRegression(\n",
    "    random_state=__random_state,\n",
    "    penalty=classifier_lr.best_params_['penalty'],\n",
    "    solver=classifier_lr.best_params_['solver'],\n",
    "    C=classifier_lr.best_params_['C'],\n",
    "    max_iter=classifier_lr.best_params_['max_iter']\n",
    ")\n",
    "clf_logistic_regression"
   ]
  },
  {
   "cell_type": "code",
   "execution_count": null,
   "id": "0e03e70e",
   "metadata": {},
   "outputs": [],
   "source": [
    "save_model(clf_logistic_regression, join(model_dir, \"clf_logistic_regression.pkl\"))"
   ]
  },
  {
   "cell_type": "markdown",
   "id": "85abb5a6",
   "metadata": {},
   "source": [
    "#### 1.2. [SVC](https://scikit-learn.org/stable/modules/generated/sklearn.svm.SVC.html)"
   ]
  },
  {
   "cell_type": "code",
   "execution_count": null,
   "id": "0883558f",
   "metadata": {},
   "outputs": [],
   "source": [
    "parameters = {\n",
    "    'kernel': ['rbf'],\n",
    "    'gamma': [1e-4, 1e-3, 1e-2],\n",
    "    'C': [1, 10, 100, 1000]\n",
    "}\n",
    "\n",
    "classifier_sv = get_best_clf(\n",
    "    clf=SVC(random_state=__random_state),\n",
    "    X=features,\n",
    "    y=target,\n",
    "    param_grid=parameters,\n",
    "    verbose=2\n",
    ")\n",
    "\n",
    "classifier_sv.best_params_"
   ]
  },
  {
   "cell_type": "code",
   "execution_count": null,
   "id": "e9420d17",
   "metadata": {},
   "outputs": [],
   "source": [
    "clf_svc = SVC(\n",
    "    random_state=__random_state,\n",
    "    kernel=classifier_sv.best_params_['kernel'],\n",
    "    gamma=classifier_sv.best_params_['gamma'],\n",
    "    C=classifier_sv.best_params_['C']\n",
    ")\n",
    "clf_svc"
   ]
  },
  {
   "cell_type": "code",
   "execution_count": null,
   "id": "7b91326f",
   "metadata": {},
   "outputs": [],
   "source": [
    "save_model(clf_svc, join(model_dir, \"clf_svc.pkl\"))"
   ]
  },
  {
   "cell_type": "markdown",
   "id": "157ff551",
   "metadata": {},
   "source": [
    "#### 1.3. [KNN](https://scikit-learn.org/stable/modules/generated/sklearn.neighbors.KNeighborsClassifier.html)"
   ]
  },
  {
   "cell_type": "code",
   "execution_count": null,
   "id": "2ee1862e",
   "metadata": {},
   "outputs": [],
   "source": [
    "parameters = {\n",
    "    'n_neighbors': [5, 11, 19, 29],\n",
    "    'weights': ['uniform', 'distance'],\n",
    "    'metric': ['minkowski', 'euclidean', 'manhattan']\n",
    "}\n",
    "\n",
    "classifier_kn = get_best_clf(\n",
    "    clf=KNeighborsClassifier(),\n",
    "    X=features,\n",
    "    y=target,\n",
    "    param_grid=parameters,\n",
    "    verbose=2\n",
    ")\n",
    "\n",
    "classifier_kn.best_params_"
   ]
  },
  {
   "cell_type": "code",
   "execution_count": null,
   "id": "8ca18a54",
   "metadata": {},
   "outputs": [],
   "source": [
    "clf_knn = KNeighborsClassifier(\n",
    "    n_neighbors=classifier_kn.best_params_['n_neighbors'],\n",
    "    weights=classifier_kn.best_params_['weights'],\n",
    "    metric=classifier_kn.best_params_['metric']\n",
    ")\n",
    "clf_knn"
   ]
  },
  {
   "cell_type": "code",
   "execution_count": null,
   "id": "13afafd6",
   "metadata": {},
   "outputs": [],
   "source": [
    "save_model(clf_knn, join(model_dir, \"clf_knn.pkl\"))"
   ]
  },
  {
   "cell_type": "markdown",
   "id": "5803e1ca",
   "metadata": {},
   "source": [
    "### 2. [Ensemble models](https://scikit-learn.org/stable/modules/ensemble.html#ensemble)"
   ]
  },
  {
   "cell_type": "markdown",
   "id": "8ce0a76d",
   "metadata": {},
   "source": [
    "#### 2.1. [Gradient Boost](https://scikit-learn.org/stable/modules/generated/sklearn.ensemble.GradientBoostingClassifier.html)"
   ]
  },
  {
   "cell_type": "code",
   "execution_count": null,
   "id": "fa7bff47",
   "metadata": {},
   "outputs": [],
   "source": [
    "parameters = {\n",
    "    'loss': ['deviance', 'exponential'],\n",
    "    'learning_rate': [0.05],\n",
    "    'n_estimators': [100, 200, 300],\n",
    "    'max_depth': [3, 4, 5],\n",
    "    'max_features': ['sqrt', 'log2']\n",
    "}\n",
    "\n",
    "classifier_gb = get_best_clf(\n",
    "    clf=GradientBoostingClassifier(random_state=__random_state),\n",
    "    X=features,\n",
    "    y=target,\n",
    "    param_grid=parameters,\n",
    "    verbose=2\n",
    ")\n",
    "\n",
    "classifier_gb.best_params_"
   ]
  },
  {
   "cell_type": "code",
   "execution_count": null,
   "id": "cd3b526f",
   "metadata": {},
   "outputs": [],
   "source": [
    "clf_gb = GradientBoostingClassifier(\n",
    "    random_state=__random_state,\n",
    "    loss=classifier_gb.best_params_['loss'],\n",
    "    learning_rate=classifier_gb.best_params_['learning_rate'],\n",
    "    n_estimators=classifier_gb.best_params_['n_estimators'],\n",
    "    max_depth=classifier_gb.best_params_['max_depth'],\n",
    "    max_features=classifier_gb.best_params_['max_features']\n",
    ")\n",
    "clf_gb"
   ]
  },
  {
   "cell_type": "code",
   "execution_count": null,
   "id": "8062f7e3",
   "metadata": {},
   "outputs": [],
   "source": [
    "save_model(clf_gb, join(model_dir, \"clf_gb.pkl\"))"
   ]
  },
  {
   "cell_type": "markdown",
   "id": "68621907",
   "metadata": {},
   "source": [
    "#### 2.2. [Voting Classifier](https://scikit-learn.org/stable/modules/generated/sklearn.ensemble.VotingClassifier.html)\n",
    "\n",
    "Let's combine all classifiers and train a voting model"
   ]
  },
  {
   "cell_type": "code",
   "execution_count": null,
   "id": "ae05dbdd",
   "metadata": {},
   "outputs": [],
   "source": [
    "estimators = [\n",
    "    ('lr', clf_logistic_regression), # logistic regression\n",
    "    ('sv', clf_svc), # svc\n",
    "    ('kn', clf_knn), # knn\n",
    "    ('gb', clf_gb) # gradient boosting\n",
    "]\n",
    "\n",
    "# voting classifier\n",
    "clf_voting = VotingClassifier(\n",
    "    estimators=estimators,\n",
    "    voting='hard'\n",
    ")\n",
    "clf_voting"
   ]
  },
  {
   "cell_type": "code",
   "execution_count": null,
   "id": "b1831ffa",
   "metadata": {},
   "outputs": [],
   "source": [
    "save_model(clf_voting, join(model_dir, \"clf_voting.pkl\"))"
   ]
  },
  {
   "cell_type": "markdown",
   "id": "bedfcf9e",
   "metadata": {},
   "source": [
    "#### 2.3. [Stacking Classifier](https://scikit-learn.org/stable/modules/generated/sklearn.ensemble.StackingClassifier.html#sklearn.ensemble.StackingClassifier)"
   ]
  },
  {
   "cell_type": "code",
   "execution_count": null,
   "id": "6e8bb6eb",
   "metadata": {},
   "outputs": [],
   "source": [
    "# stacking classifier\n",
    "clf_stacking = StackingClassifier(\n",
    "    estimators=estimators,\n",
    "    final_estimator=LogisticRegression()\n",
    ")\n",
    "clf_stacking"
   ]
  },
  {
   "cell_type": "code",
   "execution_count": null,
   "id": "6b56e9e4",
   "metadata": {},
   "outputs": [],
   "source": [
    "save_model(clf_stacking, join(model_dir, \"clf_stacking.pkl\"))"
   ]
  }
 ],
 "metadata": {
  "interpreter": {
   "hash": "b33028dfef90447248446bd6a115b2c1f87c179fa7c4ab6e59f7d48c9bbeef80"
  },
  "kernelspec": {
   "display_name": "Python 3.8.13 ('machine_learning')",
   "language": "python",
   "name": "python3"
  },
  "language_info": {
   "codemirror_mode": {
    "name": "ipython",
    "version": 3
   },
   "file_extension": ".py",
   "mimetype": "text/x-python",
   "name": "python",
   "nbconvert_exporter": "python",
   "pygments_lexer": "ipython3",
   "version": "3.8.13"
  }
 },
 "nbformat": 4,
 "nbformat_minor": 5
}
